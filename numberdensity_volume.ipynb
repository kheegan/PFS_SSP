{
 "cells": [
  {
   "cell_type": "markdown",
   "id": "5cb58afd",
   "metadata": {},
   "source": [
    "# Plot of survey number density vs cosmic volume\n",
    "\n",
    "Cosmic volume is typically calculated using https://cosmocalc.icrar.org/ (click on 'Survey Design' tab), with the Planck18 cosmology.\n",
    "\n",
    "The basic philosophy is to adopt the maximum redshift at which each survey is 'assumed' to probe large-scale structure, and evaluate the number density at that redshift."
   ]
  },
  {
   "cell_type": "code",
   "execution_count": 1,
   "id": "3011f7da",
   "metadata": {},
   "outputs": [],
   "source": [
    "import numpy as np\n",
    "from astropy.io import fits \n",
    "from astropy.table import Table\n",
    "\n",
    "import matplotlib\n",
    "matplotlib.rc('mathtext',fontset='stixsans')\n",
    "import matplotlib.pyplot as plt\n",
    "%matplotlib inline\n",
    "\n",
    "t= Table(names=('Survey', 'redshift','number_den', 'volume'), dtype=('U15','f4','f8','f8'))\n"
   ]
  },
  {
   "cell_type": "markdown",
   "id": "17a4ec6c",
   "metadata": {},
   "source": [
    "### PFS Tomography survey\n",
    "\n",
    "$n = 2.4 \\times 10^{-3} (\\mathrm{Mpc}/h)^{-3}$ equivalent galaxy number density to reproduce cosmic web recovery, and volume of $ V = 2.7 \\times 10^7 (\\mathrm{Mpc}/h)^3$. The latter is the cosmic volume over $2.2<z<2.7$ within 12.3 sq deg."
   ]
  },
  {
   "cell_type": "code",
   "execution_count": 2,
   "id": "bc232863",
   "metadata": {},
   "outputs": [],
   "source": [
    "t.add_row(('PFS IGM', 2.5, 2.4e-3, 2.7e7))"
   ]
  },
  {
   "cell_type": "markdown",
   "id": "4b69971c",
   "metadata": {},
   "source": [
    "### PFS Low-z survey\n",
    "Reading off left panel of Fig 6 in public document, we get $n < 10^{-3.1}\\mathrm{Mpc}^{-3}$ at $0.7<z<1.6$. (Using the solid line... the dotted line is for $J<23$?)\n",
    "\n",
    "This calculation probably uses more than 12.3 sq deg, but we will proceed to use this as the area for the cosmic volume calculation: $0.104\\mathrm{Gpc}^3$ or $3.57 \\times 10^7\\,(\\mathrm{Mpc}/h)^3$"
   ]
  },
  {
   "cell_type": "code",
   "execution_count": 3,
   "id": "7ec6ddf9",
   "metadata": {},
   "outputs": [],
   "source": [
    "n_pfslowz = 10**(-3.1)/0.7**3\n",
    "vol_pfslowz = 0.104e9 * 0.7**3\n",
    "\n",
    "t.add_row(('PFS Low-z', 2., n_pfslowz, vol_pfslowz))"
   ]
  },
  {
   "cell_type": "markdown",
   "id": "9e373463",
   "metadata": {},
   "source": [
    "### DEEP2 \n",
    "\n",
    "We use numbers reported by Newman et al 2013 (http://adsabs.harvard.edu/abs/2013ApJS..208....5N).\n",
    "\n",
    "Fig 7 in that paper gives comoving number density as a function of redshift: $n > 3.3 \\times 10^{-3} (\\mathrm{Mpc}/h)^{-3}$ for $z< 1.2$\n",
    "\n",
    "The total observed area is given in Table 3: 2.78 sq deg. Over $0<z<1.2$, this yields $V=5.5\\times 10^6 (\\mathrm{Mpc}/h)^3$"
   ]
  },
  {
   "cell_type": "code",
   "execution_count": 4,
   "id": "a7729082",
   "metadata": {},
   "outputs": [],
   "source": [
    "numberden_deep2 = 3.3e-3\n",
    "vol_deep2 = 5.5e6\n",
    "t.add_row(('DEEP2', 1.2, numberden_deep2, vol_deep2))"
   ]
  },
  {
   "cell_type": "markdown",
   "id": "a16260bc",
   "metadata": {},
   "source": [
    "### SDSS\n",
    "For the SDSS main galaxy survey, we read off Fig 7 of Newman et al 2013.\n",
    "\n",
    "We pick $z=0.15$ as the maximum redshift, at which the number density is $n = 3 \\times 10^{-3} (\\mathrm{Mpc}/h)^{-3}$. The volume is evaluated assuming 10,000 sq deg"
   ]
  },
  {
   "cell_type": "code",
   "execution_count": 5,
   "id": "131f8437",
   "metadata": {},
   "outputs": [],
   "source": [
    "numden_sdss = 3.e-3\n",
    "vol_sdss = 0.259*1e9*0.7**3\n",
    "t.add_row(('SDSS', 0.15, numden_sdss, vol_sdss))"
   ]
  },
  {
   "cell_type": "markdown",
   "id": "87a65e01",
   "metadata": {},
   "source": [
    "### VIPERS\n",
    "Again, read off left panel of Fig 6 in public document: over $0.4<z <0.9$, the number density is $n < 10^{-3.16}\\mathrm{Mpc}^{-3}$.\n",
    "\n",
    "Total footprint is 23.5 sq deg, which yields $V = 0.063\\,\\mathrm{Gpc}^3$ over the aforementioned redshift range. "
   ]
  },
  {
   "cell_type": "code",
   "execution_count": 6,
   "id": "71d05432",
   "metadata": {},
   "outputs": [],
   "source": [
    "numberden_vipers = 10**(-3.16)/0.7**3\n",
    "vol_vipers = 0.063e9 *0.7**3\n",
    "t.add_row(('VIPERS',0.9, numberden_vipers, vol_vipers))"
   ]
  },
  {
   "cell_type": "markdown",
   "id": "10e1d777",
   "metadata": {},
   "source": [
    "### GAMA\n",
    "\n",
    "The number density here is estimated off the mock survey estimated in Lee+2021 (https://ui.adsabs.harvard.edu/abs/2021arXiv210900386L); see Fig 3. This is explicitly designed to match GAMA so should be sensible. \n",
    "\n",
    "This yields $n = 2.5 \\times 10^{-3}\\,(\\mathrm{Mpc}/h)^{-3}$ at $z\\leq 0.3$ over a volume of $0.053\\,\\mathrm{Gpc}^3$."
   ]
  },
  {
   "cell_type": "code",
   "execution_count": 7,
   "id": "388b1b7c",
   "metadata": {},
   "outputs": [],
   "source": [
    "numberden_gama = 2.5e-3\n",
    "vol_gama = 0.053e9 * 0.7**3\n",
    "t.add_row(('GAMA', 0.3, numberden_gama, vol_gama))"
   ]
  },
  {
   "cell_type": "markdown",
   "id": "ed15c917",
   "metadata": {},
   "source": [
    "### zCOSMOS-Deep\n",
    "\n",
    "The footprint of zCOSMOS-Deep is RA = [150.65, 149.6]deg and Dec = [1.72, 2.63] i.e. 0.96 sq deg.\n",
    "\n",
    "Fig 1 in Ata+2021 gives the number density of galaxies in zCOSMOS-Deep per $\\Delta z =0.16$ bin. From personal experience, zCOSMOS is a good probe of large-scale structure out to $z=2.5$ so we adopt the number density there and find the lower-end of the redshift range at which this is maintained.\n"
   ]
  },
  {
   "cell_type": "code",
   "execution_count": 8,
   "id": "adddd186",
   "metadata": {},
   "outputs": [
    {
     "name": "stdout",
     "output_type": "stream",
     "text": [
      "0.0003448383961879683 0.00042739608932578274 0.0005179736869367037 0.0002959849639638307\n"
     ]
    }
   ],
   "source": [
    "numz_26 = 200/(0.00197e9*0.7**3)\n",
    "numz_24 = 350/(0.00197e9*0.7**3) # from ICRAC cosmology calculator. \n",
    "numz_19 = 280/(0.00191e9*0.7**3)\n",
    "numz_17 = 220/(0.00186e9*0.7**3)\n",
    "\n",
    "print(numz_17, numz_19, numz_24, numz_26)\n",
    "\n",
    "numberden_zcos = numz_19\n",
    "vol_zcos = 0.00852e9 * 0.7**3\n",
    "t.add_row(('zCOSMOS-Deep', 2.5, numberden_zcos, vol_zcos))"
   ]
  },
  {
   "cell_type": "markdown",
   "id": "35376a9c",
   "metadata": {},
   "source": [
    "### Hectomap\n",
    "\n",
    "DR1 paper (Sohn et al 2021, https://ui.adsabs.harvard.edu/abs/2021ApJ...909..129S) provides data over deg<sup>2</sup> out of the eventual 54 deg<sup>2</sup> footprint.\n",
    "\n",
    "We assume that it traces the cosmic web out to z=0.6, and evaluate the number density accordingly. Fig 7 gives the DR1 redshift distribution in $\\Delta z = 0.1$ bins, and by eye we estimate N=80 in the $z=0.60$ bin. "
   ]
  },
  {
   "cell_type": "code",
   "execution_count": 9,
   "id": "b58148d7",
   "metadata": {},
   "outputs": [],
   "source": [
    "numden_hec = 80/(0.000421*1e9*0.7**3)\n",
    "vol_hec = 0.0630 * 1e9* 0.7**3\n",
    "t.add_row(('HectoMap', 0.6, numden_hec, vol_hec))"
   ]
  },
  {
   "cell_type": "markdown",
   "id": "13bd80fb",
   "metadata": {},
   "source": [
    "### MOONS\n",
    "Numbers from MOONRISE given by Alan Pearl"
   ]
  },
  {
   "cell_type": "code",
   "execution_count": 10,
   "id": "62ebec74",
   "metadata": {},
   "outputs": [],
   "source": [
    "t.add_row(('MOONS Low-z', 0.85, 95960./8373738.919, 8373738.919))\n",
    "# t.add_row(('MOONS Mid-z', 1.5, 144518./12309378.83, 12309378.83))\n",
    "t.add_row(('MOONS Hi-z', 1.35, 186242./28185675.09, 28185675.09 ))"
   ]
  },
  {
   "cell_type": "code",
   "execution_count": 14,
   "id": "73a53d96",
   "metadata": {},
   "outputs": [
    {
     "name": "stdout",
     "output_type": "stream",
     "text": [
      "0.006607682782310821\n"
     ]
    }
   ],
   "source": [
    "print(186242./28185675.09)"
   ]
  },
  {
   "cell_type": "markdown",
   "id": "d42f1390",
   "metadata": {},
   "source": [
    "### Generate plot"
   ]
  },
  {
   "cell_type": "code",
   "execution_count": 18,
   "id": "07e026d3",
   "metadata": {},
   "outputs": [
    {
     "data": {
      "image/png": "[encoded data removed]",
      "text/plain": [
       "<Figure size 540x432 with 2 Axes>"
      ]
     },
     "metadata": {
      "needs_background": "light"
     },
     "output_type": "display_data"
    }
   ],
   "source": [
    "fig, ax = plt.subplots(figsize=(7.5,6))\n",
    "\n",
    "colormap = 'rainbow'\n",
    "\n",
    "den = t['number_den']\n",
    "vol = t['volume']\n",
    "red = t['redshift']\n",
    "\n",
    "cmap = matplotlib.cm.get_cmap(colormap)\n",
    "rgba = cmap(red/2.5)\n",
    "\n",
    "s=ax.scatter(vol, den, c=rgba,s=60)\n",
    "\n",
    "for dat in t:\n",
    "    rgba_tmp = cmap(dat['redshift']/2.5)\n",
    "    ax.annotate(dat['Survey'], (dat['volume']*0.75, dat['number_den']+1e-4),c=rgba_tmp)\n",
    "\n",
    "ax.set_yscale('log')\n",
    "ax.set_xscale('log')\n",
    "\n",
    "ax.set_ylim(2e-4, 2e-2)\n",
    "ax.set_xlim(0.15e7, 1.5e8)\n",
    "# ax.ticklabel_format(axis='y', scilimits=[-1, 1],style='sci')\n",
    "plt.xticks(fontsize=12)\n",
    "plt.yticks(fontsize=12)\n",
    "# ax.yaxis.major.formatter._useMathText = True\n",
    "\n",
    "ax.set_xlabel(r'Comoving Volume ($h^{-3}\\,\\mathrm{Mpc}^3$)',fontsize=14)\n",
    "ax.set_ylabel(r'Galaxy Number Density ($ h^3\\,\\mathrm{Mpc}^{-3}$)',fontsize=14)\n",
    "\n",
    "\n",
    "cax = fig.add_axes([0.15,0.35,0.03,0.35])\n",
    "cbar = plt.colorbar(matplotlib.cm.ScalarMappable(norm=matplotlib.colors.Normalize(vmin=0., vmax=2.5),cmap=colormap),\n",
    "             cax=cax, orientation='vertical')\n",
    "cbar.ax.set_title(r'$z$')\n",
    "\n",
    "plt.show()"
   ]
  },
  {
   "cell_type": "code",
   "execution_count": null,
   "id": "f458aa06",
   "metadata": {},
   "outputs": [],
   "source": []
  }
 ],
 "metadata": {
  "kernelspec": {
   "display_name": "Python 3 (ipykernel)",
   "language": "python",
   "name": "python3"
  },
  "language_info": {
   "codemirror_mode": {
    "name": "ipython",
    "version": 3
   },
   "file_extension": ".py",
   "mimetype": "text/x-python",
   "name": "python",
   "nbconvert_exporter": "python",
   "pygments_lexer": "ipython3",
   "version": "3.7.10"
  }
 },
 "nbformat": 4,
 "nbformat_minor": 5
}
